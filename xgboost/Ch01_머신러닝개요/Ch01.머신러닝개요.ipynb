{
 "cells": [
  {
   "cell_type": "markdown",
   "id": "ac986f53",
   "metadata": {},
   "source": [
    "# Ch01. 머신러닝개요"
   ]
  },
  {
   "cell_type": "markdown",
   "id": "ae1dcbd7",
   "metadata": {},
   "source": [
    "**배울내용**\n",
    "+ XGBoost\n",
    "+ 데이터 랭글링\n",
    "+ 회귀모형 만들기\n",
    "+ 분류모형 만들기"
   ]
  },
  {
   "cell_type": "markdown",
   "id": "0353fea4",
   "metadata": {},
   "source": [
    "## 1.1. XGBoost 소개\n",
    "\n",
    "+ **부스팅**의 일반적인 아이디어는 **약한 학습기**를 반복적으로 더하며 오차를 개선하여, 강한 학습기로 바꾸는 것\n",
    "+ **그레디언트 부스팅**의 핵심 아이디어는, **경사 하강법**을 이용해 잔여 오차를 최소화 하는 것\n",
    "+ **XGBoost**는 **익스트림 그레디언트 부스팅**의 약자\n",
    "    + **익스트림**은 정확도와 속도를 달성하기 위해 계산량을 극대화하는 것을 의미"
   ]
  },
  {
   "cell_type": "markdown",
   "id": "78a8d29c",
   "metadata": {},
   "source": [
    "### 1.1.1 머신러닝이란?\n",
    "머신러닝은 빅데이터를 정확하고 실행 가능한 예측으로 변환하는 최고의 도구"
   ]
  },
  {
   "cell_type": "markdown",
   "id": "3e8ea65a",
   "metadata": {},
   "source": [
    "## 1.2. 데이터 랭글링\n",
    "데이터 랭글링은 머신러닝을 시작하기 전에 다양한 데이터 전처리 단계를 포함하는 광범위한 용어\n",
    "+ 데이터 로딩, 데이터 정제, 데이터 분석, 데이터 조작이 모두 데이터 랭글링에 포함됨"
   ]
  },
  {
   "cell_type": "markdown",
   "id": "9d52b16b",
   "metadata": {},
   "source": [
    "### 1.2.1. 데이터셋1 - 자전거 대여\n"
   ]
  }
 ],
 "metadata": {
  "kernelspec": {
   "display_name": "Python 3 (ipykernel)",
   "language": "python",
   "name": "python3"
  },
  "language_info": {
   "codemirror_mode": {
    "name": "ipython",
    "version": 3
   },
   "file_extension": ".py",
   "mimetype": "text/x-python",
   "name": "python",
   "nbconvert_exporter": "python",
   "pygments_lexer": "ipython3",
   "version": "3.10.9"
  }
 },
 "nbformat": 4,
 "nbformat_minor": 5
}
