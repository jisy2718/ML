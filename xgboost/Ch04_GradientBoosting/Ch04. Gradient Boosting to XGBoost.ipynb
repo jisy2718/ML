{
 "cells": [
  {
   "cell_type": "markdown",
   "id": "7451b1ad",
   "metadata": {},
   "source": [
    "# Ch04. Gradient Boosting to XGBoost\n",
    "+ 배깅에서 부스팅까지\n",
    "+ 그레디언트 부스팅 작동 방식\n",
    "+ 그레디언트 부스팅 매개변수 튜닝\n",
    "+ 빅데이터 다루기 - 그레디언트 부스팅 vs XGBoost"
   ]
  },
  {
   "cell_type": "markdown",
   "id": "c7ff4a53",
   "metadata": {},
   "source": [
    "## 4.1. 배깅에서 부스팅까지\n",
    "\n",
    "+ **배깅**은 부트스트랩 샘플을 사용해서, 앙상블 모델 구축\n",
    "    + 독립적으로 모델들(트리)가 생성되고, 이를 앙상블함\n",
    "+ **부스팅**은 이전 모델의 오차를 기반으로 새로운 모델을 훈련\n",
    "    + 이전 모델(트리)에 영향을 받아 하나의 앙상블 모델(트리)가 생성됨\n",
    "    \n",
    "**부스팅 알고리즘**\n",
    "+ 약한 학습기를 강력한 학습기로 변환하는 것이 부스팅 알고리즘의 일반적인 아이디어\n",
    "+ 부스팅은 강력한 기반 모델을 만드는 것이 아니라, 반복적으로 오류를 고치는 데 초점을 맞춤\n",
    "    + 기반 모델이 너무 강하면, 학습 과정이 제한되어 부스팅 모델의 전략을 약화시킴"
   ]
  },
  {
   "cell_type": "markdown",
   "id": "bb844aba",
   "metadata": {},
   "source": [
    "### 4.1.1. 에이다부스트\n",
    "에이다 부스트는 초기 부스팅 모델 중 하나로 **새로운 트리가 이전 트리의 오차를 기반으로 가중치 조정**\n",
    "+ 오류 샘플의 가중치를 높여, 잘못된 예측에 더 많은 주의를 기울임\n",
    "+ 약한 학습기(우연보다 조금 더 나은 성능)을 강력한 학습기(많은 양의 데이터에서 학습하여, 매우 잘 수행되는 모델)로 만듦\n",
    "\n",
    "\n",
    "\n",
    "**공식문서**\n",
    "+ https://scikit-learn.org/stable/modules/generated/sklearn.ensemble.AdaBoostClassifier.html\n",
    "+ https://scikit-learn.org/stable/modules/generated/sklearn.ensemble.AdaBoostRegressor.html"
   ]
  },
  {
   "cell_type": "code",
   "execution_count": 6,
   "id": "a4af7d43",
   "metadata": {},
   "outputs": [
    {
     "name": "stdout",
     "output_type": "stream",
     "text": [
      "AdaBoostRegressor(n_estimators=100)\n"
     ]
    }
   ],
   "source": [
    "from sklearn.ensemble import AdaBoostRegressor, AdaBoostClassifier\n",
    "import numpy as np\n",
    "np.random.seed(42)\n",
    "\n",
    "# X와 y 생성\n",
    "X = np.random.rand(500, 5)\n",
    "y = np.random.rand(500, 1)\n",
    "y = y.reshape(-1)\n",
    "\n",
    "model = AdaBoostRegressor(n_estimators=100)\n",
    "model.fit(X,y)\n",
    "print(model)"
   ]
  },
  {
   "cell_type": "markdown",
   "id": "78de3ff4",
   "metadata": {},
   "source": [
    "### 4.1.2. 그레디언트 부스팅\n",
    "\n",
    "**에이다부스트와 차이점**\n",
    "+ 잘못된 예측을 기반으로 조정되는 것은 같지만, 이전 트리의 예츠 오차를 기반으로 **완전히 새로운 트리를 훈련**함\n",
    "    + 새로운 트리는 올바르게 예측된 값에는 영향을 받지 않음\n",
    "    \n",
    "**특징**\n",
    "+ 각 트리의 예측 값을 더해 모델 평가에 사용\n",
    "+ 예측 값과 실제 값 사이의 차이인 **잔차**를 활용"
   ]
  },
  {
   "cell_type": "markdown",
   "id": "60ba8aae",
   "metadata": {},
   "source": [
    "## 4.2. 그레디언트 부스팅 작동방식 - 트리로부터 모델구축"
   ]
  },
  {
   "cell_type": "code",
   "execution_count": 7,
   "id": "ba6045e0",
   "metadata": {},
   "outputs": [],
   "source": [
    "import pandas as pd\n",
    "import numpy as np\n",
    "import warnings\n",
    "warnings.filterwarnings('ignore')\n",
    "\n",
    "import xgboost as xgb\n",
    "xgb.set_config(verbosity=0)"
   ]
  },
  {
   "cell_type": "markdown",
   "id": "af73ccfe",
   "metadata": {},
   "source": [
    "### 4.2.2. 데이터 로드"
   ]
  },
  {
   "cell_type": "code",
   "execution_count": 9,
   "id": "94794c74",
   "metadata": {},
   "outputs": [
    {
     "data": {
      "text/html": [
       "<div>\n",
       "<style scoped>\n",
       "    .dataframe tbody tr th:only-of-type {\n",
       "        vertical-align: middle;\n",
       "    }\n",
       "\n",
       "    .dataframe tbody tr th {\n",
       "        vertical-align: top;\n",
       "    }\n",
       "\n",
       "    .dataframe thead th {\n",
       "        text-align: right;\n",
       "    }\n",
       "</style>\n",
       "<table border=\"1\" class=\"dataframe\">\n",
       "  <thead>\n",
       "    <tr style=\"text-align: right;\">\n",
       "      <th></th>\n",
       "      <th>instant</th>\n",
       "      <th>season</th>\n",
       "      <th>yr</th>\n",
       "      <th>mnth</th>\n",
       "      <th>holiday</th>\n",
       "      <th>weekday</th>\n",
       "      <th>workingday</th>\n",
       "      <th>weathersit</th>\n",
       "      <th>temp</th>\n",
       "      <th>atemp</th>\n",
       "      <th>hum</th>\n",
       "      <th>windspeed</th>\n",
       "      <th>cnt</th>\n",
       "    </tr>\n",
       "  </thead>\n",
       "  <tbody>\n",
       "    <tr>\n",
       "      <th>0</th>\n",
       "      <td>1</td>\n",
       "      <td>1.0</td>\n",
       "      <td>0.0</td>\n",
       "      <td>1.0</td>\n",
       "      <td>0.0</td>\n",
       "      <td>6.0</td>\n",
       "      <td>0.0</td>\n",
       "      <td>2</td>\n",
       "      <td>0.344167</td>\n",
       "      <td>0.363625</td>\n",
       "      <td>0.805833</td>\n",
       "      <td>0.160446</td>\n",
       "      <td>985</td>\n",
       "    </tr>\n",
       "    <tr>\n",
       "      <th>1</th>\n",
       "      <td>2</td>\n",
       "      <td>1.0</td>\n",
       "      <td>0.0</td>\n",
       "      <td>1.0</td>\n",
       "      <td>0.0</td>\n",
       "      <td>0.0</td>\n",
       "      <td>0.0</td>\n",
       "      <td>2</td>\n",
       "      <td>0.363478</td>\n",
       "      <td>0.353739</td>\n",
       "      <td>0.696087</td>\n",
       "      <td>0.248539</td>\n",
       "      <td>801</td>\n",
       "    </tr>\n",
       "    <tr>\n",
       "      <th>2</th>\n",
       "      <td>3</td>\n",
       "      <td>1.0</td>\n",
       "      <td>0.0</td>\n",
       "      <td>1.0</td>\n",
       "      <td>0.0</td>\n",
       "      <td>1.0</td>\n",
       "      <td>1.0</td>\n",
       "      <td>1</td>\n",
       "      <td>0.196364</td>\n",
       "      <td>0.189405</td>\n",
       "      <td>0.437273</td>\n",
       "      <td>0.248309</td>\n",
       "      <td>1349</td>\n",
       "    </tr>\n",
       "    <tr>\n",
       "      <th>3</th>\n",
       "      <td>4</td>\n",
       "      <td>1.0</td>\n",
       "      <td>0.0</td>\n",
       "      <td>1.0</td>\n",
       "      <td>0.0</td>\n",
       "      <td>2.0</td>\n",
       "      <td>1.0</td>\n",
       "      <td>1</td>\n",
       "      <td>0.200000</td>\n",
       "      <td>0.212122</td>\n",
       "      <td>0.590435</td>\n",
       "      <td>0.160296</td>\n",
       "      <td>1562</td>\n",
       "    </tr>\n",
       "    <tr>\n",
       "      <th>4</th>\n",
       "      <td>5</td>\n",
       "      <td>1.0</td>\n",
       "      <td>0.0</td>\n",
       "      <td>1.0</td>\n",
       "      <td>0.0</td>\n",
       "      <td>3.0</td>\n",
       "      <td>1.0</td>\n",
       "      <td>1</td>\n",
       "      <td>0.226957</td>\n",
       "      <td>0.229270</td>\n",
       "      <td>0.436957</td>\n",
       "      <td>0.186900</td>\n",
       "      <td>1600</td>\n",
       "    </tr>\n",
       "  </tbody>\n",
       "</table>\n",
       "</div>"
      ],
      "text/plain": [
       "   instant  season   yr  mnth  holiday  weekday  workingday  weathersit  \\\n",
       "0        1     1.0  0.0   1.0      0.0      6.0         0.0           2   \n",
       "1        2     1.0  0.0   1.0      0.0      0.0         0.0           2   \n",
       "2        3     1.0  0.0   1.0      0.0      1.0         1.0           1   \n",
       "3        4     1.0  0.0   1.0      0.0      2.0         1.0           1   \n",
       "4        5     1.0  0.0   1.0      0.0      3.0         1.0           1   \n",
       "\n",
       "       temp     atemp       hum  windspeed   cnt  \n",
       "0  0.344167  0.363625  0.805833   0.160446   985  \n",
       "1  0.363478  0.353739  0.696087   0.248539   801  \n",
       "2  0.196364  0.189405  0.437273   0.248309  1349  \n",
       "3  0.200000  0.212122  0.590435   0.160296  1562  \n",
       "4  0.226957  0.229270  0.436957   0.186900  1600  "
      ]
     },
     "execution_count": 9,
     "metadata": {},
     "output_type": "execute_result"
    }
   ],
   "source": [
    "df_bikes = pd.read_csv('bike_rentals_cleaned.csv')\n",
    "\n",
    "# 데이터를 X와 y로 나눕니다.\n",
    "X_bikes = df_bikes.iloc[:,:-1]\n",
    "y_bikes = df_bikes.iloc[:,-1]\n",
    "\n",
    "\n",
    "# 데이터를 훈련 세트와 테스트 세트로 나눕니다.\n",
    "from sklearn.model_selection import train_test_split\n",
    "X_train, X_test, y_train, y_test = train_test_split(X_bikes, y_bikes, random_state=42)\n",
    "\n",
    "df_bikes.head()"
   ]
  },
  {
   "cell_type": "markdown",
   "id": "2aa93d67",
   "metadata": {},
   "source": [
    "### 4.2.3. 그레디언트 부스팅 모델 만들기\n",
    "1. 결정트리 훈련 : `max_depth = 1`인 **스텀프** 또는 `max_depth = 2,3,`으로 사용\n",
    "    + 부스팅 자체가 기본 학습기에 의존하는 모델이 아니라, 오차에서 학습하는 모델을 원하는 것이기 때문에 **튜닝 하지 않음**\n",
    "\n",
    "2. 훈련 데이터에 대한 예측 생성\n",
    "\n",
    "3. 잔차 생성(=새로운 훈련데이터 y)\n",
    "\n",
    "\n",
    "4. 위의 1~3단계를 반복 (추가할 트리 개수만큼)\n",
    "\n",
    "5. 결과를 더하여 최종 트리 새성\n",
    "\n",
    "6. 모델 평가"
   ]
  },
  {
   "cell_type": "code",
   "execution_count": 11,
   "id": "bfa3db64",
   "metadata": {},
   "outputs": [
    {
     "name": "stdout",
     "output_type": "stream",
     "text": [
      "2번째 트리 훈련 완료\n",
      "3번째 트리 훈련 완료\n",
      "4번째 트리 훈련 완료\n",
      "5번째 트리 훈련 완료\n",
      "6번째 트리 훈련 완료\n",
      "7번째 트리 훈련 완료\n",
      "8번째 트리 훈련 완료\n",
      "9번째 트리 훈련 완료\n",
      "10번째 트리 훈련 완료\n"
     ]
    },
    {
     "data": {
      "text/plain": [
       "838.9974799938482"
      ]
     },
     "execution_count": 11,
     "metadata": {},
     "output_type": "execute_result"
    }
   ],
   "source": [
    "from sklearn.tree import DecisionTreeRegressor\n",
    "# 1. 트리 훈련\n",
    "tree1 = DecisionTreeRegressor(max_depth=2, random_state=42)\n",
    "tree1.fit(X_train, y_train)\n",
    "\n",
    "# 2. 훈련 y 예측\n",
    "y_train_pred = tree1.predict(X_train)\n",
    "\n",
    "# 3. 잔차 계산\n",
    "y2_train = y_train - y_train_pred\n",
    "\n",
    "# 4. 1~3 반복\n",
    "trees = [tree1]\n",
    "num_of_trees = 10\n",
    "for i in range(2,num_of_trees+1):\n",
    "    tree = DecisionTreeRegressor(max_depth=2, random_state=42)\n",
    "    tree.fit(X_train, y2_train)\n",
    "    y2_train_pred = tree.predict(X_train)  # 훈련 y값 예측\n",
    "    y2_train = y2_train - y2_train_pred    # 잔차 계산 (=새로운 훈련 y값)\n",
    "    trees.append(tree)\n",
    "    print(f'{i}번째 트리 훈련 완료')\n",
    "\n",
    "# 5. 최종 트리 생성\n",
    "tree = trees[0]\n",
    "y_pred = tree.predict(X_test)\n",
    "for i in range(1,num_of_trees):\n",
    "    tree = trees[i]\n",
    "    y_pred += tree.predict(X_test)\n",
    "\n",
    "# 6. 평가\n",
    "from sklearn.metrics import mean_squared_error as MSE\n",
    "MSE(y_test, y_pred)**0.5"
   ]
  },
  {
   "cell_type": "markdown",
   "id": "f39ed588",
   "metadata": {},
   "source": [
    "### 4.2.4. sklearn으로 그레디언트 부스팅 모델 만들기\n",
    "sklearn의 `GradientBoostingRegressor`를 사용하여 4.2.3.과 같은 모델을 만들어 보자"
   ]
  },
  {
   "cell_type": "markdown",
   "id": "790891fe",
   "metadata": {},
   "source": [
    "#### n_estimators=10"
   ]
  },
  {
   "cell_type": "code",
   "execution_count": 12,
   "id": "cd80a763",
   "metadata": {},
   "outputs": [
    {
     "data": {
      "text/plain": [
       "838.9974799938482"
      ]
     },
     "execution_count": 12,
     "metadata": {},
     "output_type": "execute_result"
    }
   ],
   "source": [
    "from sklearn.ensemble import GradientBoostingRegressor\n",
    "\n",
    "# 1. 모델 생성\n",
    "gbr = GradientBoostingRegressor(max_depth=2, random_state=42, n_estimators=10, learning_rate=1)\n",
    "\n",
    "# 2. 모델 훈련 및 평가\n",
    "gbr.fit(X_train, y_train)\n",
    "y_pred = gbr.predict(X_test)\n",
    "from sklearn.metrics import mean_squared_error as MSE\n",
    "MSE(y_test, y_pred)**0.5"
   ]
  },
  {
   "cell_type": "markdown",
   "id": "6a458341",
   "metadata": {},
   "source": [
    "#### n_estimators=30"
   ]
  },
  {
   "cell_type": "code",
   "execution_count": 14,
   "id": "e0094548",
   "metadata": {},
   "outputs": [
    {
     "data": {
      "text/plain": [
       "835.8147926125188"
      ]
     },
     "execution_count": 14,
     "metadata": {},
     "output_type": "execute_result"
    }
   ],
   "source": [
    "from sklearn.ensemble import GradientBoostingRegressor\n",
    "\n",
    "# 1. 모델 생성\n",
    "gbr = GradientBoostingRegressor(max_depth=2, random_state=42, n_estimators=30, learning_rate=1)\n",
    "\n",
    "# 2. 모델 훈련 및 평가\n",
    "gbr.fit(X_train, y_train)\n",
    "y_pred = gbr.predict(X_test)\n",
    "from sklearn.metrics import mean_squared_error as MSE\n",
    "MSE(y_test, y_pred)**0.5"
   ]
  },
  {
   "cell_type": "markdown",
   "id": "cc88c4c9",
   "metadata": {},
   "source": [
    "#### n_estimators=300"
   ]
  },
  {
   "cell_type": "code",
   "execution_count": 16,
   "id": "156eadba",
   "metadata": {},
   "outputs": [
    {
     "data": {
      "text/plain": [
       "631.0265307913979"
      ]
     },
     "execution_count": 16,
     "metadata": {},
     "output_type": "execute_result"
    }
   ],
   "source": [
    "from sklearn.ensemble import GradientBoostingRegressor\n",
    "\n",
    "# 1. 모델 생성\n",
    "gbr = GradientBoostingRegressor(max_depth=2, random_state=42, n_estimators=300)\n",
    "\n",
    "# 2. 모델 훈련 및 평가\n",
    "gbr.fit(X_train, y_train)\n",
    "y_pred = gbr.predict(X_test)\n",
    "from sklearn.metrics import mean_squared_error as MSE\n",
    "MSE(y_test, y_pred)**0.5"
   ]
  },
  {
   "cell_type": "markdown",
   "id": "bfe2be80",
   "metadata": {},
   "source": [
    "### 4.2.5. GradientBoostingClassifier\n",
    "클래스 별로 각 트리의 예측을 더한 후, **시그모이드** 함수를 적용하여 예측 확률 계산"
   ]
  },
  {
   "cell_type": "markdown",
   "id": "1bf0d91b",
   "metadata": {},
   "source": [
    "## 4.3. GradientBoosting 매개변수 튜닝\n",
    "\n",
    "+ GradientBoosting의 가장 중요한 매개변수인 `learning_rate` 와 `n_estimators`에 대해 살펴볼 예정\n",
    "+ **확률적 그레디언트 부스팅**을 만드는 `subsample` 도 살펴볼 예정\n",
    "+ 기본학습기로는 `DecisionTreeRegressor(splitter='best', max_depth=3)` 이 default임"
   ]
  },
  {
   "cell_type": "markdown",
   "id": "8e12b920",
   "metadata": {},
   "source": [
    "### 4.3.1. learning_rate\n",
    "`learning_rate`는 모델 구축에 너무 큰 영향을 끼치지 않도록 개별 트리의 기여를 줄임(**축소**)\n",
    "+ `learning_rate`를 조정하지 않고 전체 앙상블을 만들면, 모델에 처음 추가 된 트리의 영향이 너무 커지는 문제 발생\n",
    "+ `n_estimators`를 늘리면 `learning_rate`는 줄이는 것이 일반적\n",
    "+ `default = 0.1` : 트리의 영향을 10%로 줄임\n",
    "    + `learning_rate = 1` : 트리 결과에 어떤 조정도 하지 않음"
   ]
  },
  {
   "cell_type": "markdown",
   "id": "d2c61a17",
   "metadata": {},
   "source": [
    "#### learning_rate와 n_estimators 관계 파악"
   ]
  },
  {
   "cell_type": "code",
   "execution_count": 17,
   "id": "6fb00f89",
   "metadata": {},
   "outputs": [
    {
     "name": "stdout",
     "output_type": "stream",
     "text": [
      "학습률: 0.001 , 점수: 1644.8588551966227\n",
      "학습률: 0.01 , 점수: 836.9263159192982\n",
      "학습률: 0.05 , 점수: 628.7441695043741\n",
      "학습률: 0.1 , 점수: 631.0265307913979\n",
      "학습률: 0.15 , 점수: 628.0720566556118\n",
      "학습률: 0.2 , 점수: 602.4357170179967\n",
      "학습률: 0.3 , 점수: 622.8722985395013\n",
      "학습률: 0.5 , 점수: 658.8308158984493\n",
      "학습률: 1.0 , 점수: 861.7100055686284\n"
     ]
    }
   ],
   "source": [
    "learning_rate_values = [0.001, 0.01, 0.05, 0.1, 0.15, 0.2, 0.3, 0.5, 1.0] # learning_rate test 범위 설정\n",
    "for value in learning_rate_values:\n",
    "    gbr = GradientBoostingRegressor(max_depth=2, n_estimators=300, \n",
    "                                    random_state=42, learning_rate=value)\n",
    "    gbr.fit(X_train, y_train)\n",
    "    y_pred = gbr.predict(X_test)\n",
    "    rmse = MSE(y_test, y_pred)**0.5\n",
    "    print('학습률:', value, ', 점수:', rmse)"
   ]
  },
  {
   "cell_type": "code",
   "execution_count": 18,
   "id": "bee7d16d",
   "metadata": {},
   "outputs": [],
   "source": [
    "import matplotlib.pyplot as plt\n",
    "import seaborn as sns\n",
    "sns.set()"
   ]
  },
  {
   "cell_type": "code",
   "execution_count": 21,
   "id": "65375fcf",
   "metadata": {},
   "outputs": [
    {
     "data": {
      "image/png": "[encoded data removed]",
      "text/plain": [
       "<Figure size 1500x700 with 1 Axes>"
      ]
     },
     "metadata": {},
     "output_type": "display_data"
    },
    {
     "data": {
      "image/png": "[encoded data removed]",
      "text/plain": [
       "<Figure size 1500x700 with 1 Axes>"
      ]
     },
     "metadata": {},
     "output_type": "display_data"
    },
    {
     "data": {
      "image/png": "[encoded data removed]",
      "text/plain": [
       "<Figure size 1500x700 with 1 Axes>"
      ]
     },
     "metadata": {},
     "output_type": "display_data"
    }
   ],
   "source": [
    "from sklearn.metrics import mean_squared_error\n",
    "\n",
    "# 1. n_estimators 개수마다 for loop\n",
    "for est in [30, 300, 3000]:\n",
    "    rmse_scores = []\n",
    "    # 2. 각 n_estimators마다 learning_rate 변화주기\n",
    "    for value in learning_rate_values:\n",
    "        gbr = GradientBoostingRegressor(max_depth=2, n_estimators=est, \n",
    "                                        random_state=42, learning_rate=value)\n",
    "        gbr.fit(X_train, y_train)\n",
    "        y_pred = gbr.predict(X_test)\n",
    "        rmse = mean_squared_error(y_test, y_pred, squared=False)\n",
    "        rmse_scores.append(rmse)\n",
    "        \n",
    "    plt.figure(figsize=(15,7))\n",
    "    plt.plot(learning_rate_values, rmse_scores)\n",
    "    plt.scatter(learning_rate_values, rmse_scores)\n",
    "    plt.xlabel('learning_rate')\n",
    "    plt.ylabel('RMSE')\n",
    "    plt.title('Gradient Boosting learning_rate {} trees'.format(est))\n",
    "    plt.show()"
   ]
  },
  {
   "cell_type": "markdown",
   "id": "11b7751e",
   "metadata": {},
   "source": [
    "### 4.3.2. 속성들\n"
   ]
  },
  {
   "cell_type": "markdown",
   "id": "dc6cfbc7",
   "metadata": {},
   "source": [
    "#### init_\n",
    "첫 번째 잔차를 계산하기 위한 초기 모델이 저장되어 있음"
   ]
  },
  {
   "cell_type": "code",
   "execution_count": 22,
   "id": "9908ed84",
   "metadata": {},
   "outputs": [
    {
     "data": {
      "text/html": [
       "<style>#sk-container-id-3 {color: black;background-color: white;}#sk-container-id-3 pre{padding: 0;}#sk-container-id-3 div.sk-toggleable {background-color: white;}#sk-container-id-3 label.sk-toggleable__label {cursor: pointer;display: block;width: 100%;margin-bottom: 0;padding: 0.3em;box-sizing: border-box;text-align: center;}#sk-container-id-3 label.sk-toggleable__label-arrow:before {content: \"▸\";float: left;margin-right: 0.25em;color: #696969;}#sk-container-id-3 label.sk-toggleable__label-arrow:hover:before {color: black;}#sk-container-id-3 div.sk-estimator:hover label.sk-toggleable__label-arrow:before {color: black;}#sk-container-id-3 div.sk-toggleable__content {max-height: 0;max-width: 0;overflow: hidden;text-align: left;background-color: #f0f8ff;}#sk-container-id-3 div.sk-toggleable__content pre {margin: 0.2em;color: black;border-radius: 0.25em;background-color: #f0f8ff;}#sk-container-id-3 input.sk-toggleable__control:checked~div.sk-toggleable__content {max-height: 200px;max-width: 100%;overflow: auto;}#sk-container-id-3 input.sk-toggleable__control:checked~label.sk-toggleable__label-arrow:before {content: \"▾\";}#sk-container-id-3 div.sk-estimator input.sk-toggleable__control:checked~label.sk-toggleable__label {background-color: #d4ebff;}#sk-container-id-3 div.sk-label input.sk-toggleable__control:checked~label.sk-toggleable__label {background-color: #d4ebff;}#sk-container-id-3 input.sk-hidden--visually {border: 0;clip: rect(1px 1px 1px 1px);clip: rect(1px, 1px, 1px, 1px);height: 1px;margin: -1px;overflow: hidden;padding: 0;position: absolute;width: 1px;}#sk-container-id-3 div.sk-estimator {font-family: monospace;background-color: #f0f8ff;border: 1px dotted black;border-radius: 0.25em;box-sizing: border-box;margin-bottom: 0.5em;}#sk-container-id-3 div.sk-estimator:hover {background-color: #d4ebff;}#sk-container-id-3 div.sk-parallel-item::after {content: \"\";width: 100%;border-bottom: 1px solid gray;flex-grow: 1;}#sk-container-id-3 div.sk-label:hover label.sk-toggleable__label {background-color: #d4ebff;}#sk-container-id-3 div.sk-serial::before {content: \"\";position: absolute;border-left: 1px solid gray;box-sizing: border-box;top: 0;bottom: 0;left: 50%;z-index: 0;}#sk-container-id-3 div.sk-serial {display: flex;flex-direction: column;align-items: center;background-color: white;padding-right: 0.2em;padding-left: 0.2em;position: relative;}#sk-container-id-3 div.sk-item {position: relative;z-index: 1;}#sk-container-id-3 div.sk-parallel {display: flex;align-items: stretch;justify-content: center;background-color: white;position: relative;}#sk-container-id-3 div.sk-item::before, #sk-container-id-3 div.sk-parallel-item::before {content: \"\";position: absolute;border-left: 1px solid gray;box-sizing: border-box;top: 0;bottom: 0;left: 50%;z-index: -1;}#sk-container-id-3 div.sk-parallel-item {display: flex;flex-direction: column;z-index: 1;position: relative;background-color: white;}#sk-container-id-3 div.sk-parallel-item:first-child::after {align-self: flex-end;width: 50%;}#sk-container-id-3 div.sk-parallel-item:last-child::after {align-self: flex-start;width: 50%;}#sk-container-id-3 div.sk-parallel-item:only-child::after {width: 0;}#sk-container-id-3 div.sk-dashed-wrapped {border: 1px dashed gray;margin: 0 0.4em 0.5em 0.4em;box-sizing: border-box;padding-bottom: 0.4em;background-color: white;}#sk-container-id-3 div.sk-label label {font-family: monospace;font-weight: bold;display: inline-block;line-height: 1.2em;}#sk-container-id-3 div.sk-label-container {text-align: center;}#sk-container-id-3 div.sk-container {/* jupyter's `normalize.less` sets `[hidden] { display: none; }` but bootstrap.min.css set `[hidden] { display: none !important; }` so we also need the `!important` here to be able to override the default hidden behavior on the sphinx rendered scikit-learn.org. See: https://github.com/scikit-learn/scikit-learn/issues/21755 */display: inline-block !important;position: relative;}#sk-container-id-3 div.sk-text-repr-fallback {display: none;}</style><div id=\"sk-container-id-3\" class=\"sk-top-container\"><div class=\"sk-text-repr-fallback\"><pre>DummyRegressor()</pre><b>In a Jupyter environment, please rerun this cell to show the HTML representation or trust the notebook. <br />On GitHub, the HTML representation is unable to render, please try loading this page with nbviewer.org.</b></div><div class=\"sk-container\" hidden><div class=\"sk-item\"><div class=\"sk-estimator sk-toggleable\"><input class=\"sk-toggleable__control sk-hidden--visually\" id=\"sk-estimator-id-3\" type=\"checkbox\" checked><label for=\"sk-estimator-id-3\" class=\"sk-toggleable__label sk-toggleable__label-arrow\">DummyRegressor</label><div class=\"sk-toggleable__content\"><pre>DummyRegressor()</pre></div></div></div></div></div>"
      ],
      "text/plain": [
       "DummyRegressor()"
      ]
     },
     "execution_count": 22,
     "metadata": {},
     "output_type": "execute_result"
    }
   ],
   "source": [
    "gbr.init_"
   ]
  },
  {
   "cell_type": "markdown",
   "id": "5ab49799",
   "metadata": {},
   "source": [
    "#### estimators_\n",
    "앙상블에 추가된 트리가 저장되어 있음"
   ]
  },
  {
   "cell_type": "code",
   "execution_count": 23,
   "id": "dab4dfdc",
   "metadata": {},
   "outputs": [
    {
     "data": {
      "text/plain": [
       "3000"
      ]
     },
     "execution_count": 23,
     "metadata": {},
     "output_type": "execute_result"
    }
   ],
   "source": [
    "len(gbr.estimators_)"
   ]
  },
  {
   "cell_type": "markdown",
   "id": "a08727d0",
   "metadata": {},
   "source": [
    "#### train_score_\n",
    "부스팅 모델에 트리를 추가하면서 줄어드는 손실함수 값 저장되어 있음"
   ]
  },
  {
   "cell_type": "markdown",
   "id": "b2eed748",
   "metadata": {},
   "source": [
    "### 4.3.3. validation_fraction & n_iter_no_change & tol\n",
    "`validation_fraction`\n",
    "+ 훈련 세트에서 검증 데이터 덜어낼 양\n",
    "+ `default = 0.1`\n",
    "\n",
    "\n",
    "`n_iter_no_change`\n",
    "+ 반복 횟수 동안 검증 점수가 `tol(default 1e-4)` 만큼 향상되지 않으면 훈련을 종료\n",
    "+ `default=None` 으로 조기종료 수행 안함"
   ]
  },
  {
   "cell_type": "markdown",
   "id": "10b701d6",
   "metadata": {},
   "source": [
    "### 4.3.4. 기본 학습기\n",
    "기본 학습기인 결정트리의 매개변수를 변화시킬 수 있음"
   ]
  },
  {
   "cell_type": "markdown",
   "id": "3a6868c4",
   "metadata": {},
   "source": [
    "#### max_depth"
   ]
  },
  {
   "cell_type": "code",
   "execution_count": 31,
   "id": "d30048d2",
   "metadata": {},
   "outputs": [
    {
     "name": "stdout",
     "output_type": "stream",
     "text": [
      "최대 깊이: None , 점수: 857.8796202032828\n",
      "최대 깊이: 1 , 점수: 678.069869916268\n",
      "최대 깊이: 2 , 점수: 631.0265307913979\n",
      "최대 깊이: 3 , 점수: 652.3038233067876\n",
      "최대 깊이: 4 , 점수: 572.0280967209038\n"
     ]
    },
    {
     "data": {
      "image/png": "[encoded data removed]",
      "text/plain": [
       "<Figure size 1500x700 with 1 Axes>"
      ]
     },
     "metadata": {},
     "output_type": "display_data"
    }
   ],
   "source": [
    "depths = [None, 1, 2, 3, 4]\n",
    "n_estimators=300\n",
    "for depth in depths:\n",
    "    gbr = GradientBoostingRegressor(max_depth=depth, n_estimators=n_estimators, \n",
    "                                    random_state=42)\n",
    "    gbr.fit(X_train, y_train)\n",
    "    y_pred = gbr.predict(X_test)\n",
    "    rmse = MSE(y_test, y_pred)**0.5\n",
    "    print('최대 깊이:', depth, ', 점수:', rmse)\n",
    "plt.figure(figsize=(15,7))\n",
    "plt.plot(range(1, n_estimators+1), gbr.train_score_)\n",
    "plt.xlabel('n_estimators')\n",
    "plt.ylabel('train_score_')\n",
    "plt.title('Train Score')\n",
    "plt.show()"
   ]
  },
  {
   "cell_type": "markdown",
   "id": "315122fb",
   "metadata": {},
   "source": [
    "#### max_depth & 조기종료 옵션"
   ]
  },
  {
   "cell_type": "code",
   "execution_count": 30,
   "id": "6e352ffb",
   "metadata": {},
   "outputs": [
    {
     "name": "stdout",
     "output_type": "stream",
     "text": [
      "최대 깊이: None , 점수: 875.7812764851641\n",
      "최대 깊이: 1 , 점수: 685.7954881804477\n",
      "최대 깊이: 2 , 점수: 649.9893947098984\n",
      "최대 깊이: 3 , 점수: 675.674645952983\n",
      "최대 깊이: 4 , 점수: 633.5385533730758\n"
     ]
    },
    {
     "data": {
      "image/png": "[encoded data removed]",
      "text/plain": [
       "<Figure size 1500x700 with 1 Axes>"
      ]
     },
     "metadata": {},
     "output_type": "display_data"
    }
   ],
   "source": [
    "depths = [None, 1, 2, 3, 4]\n",
    "n_estimators=300\n",
    "for depth in depths:\n",
    "    gbr = GradientBoostingRegressor(max_depth=depth, n_estimators=n_estimators, \n",
    "                                    random_state=42, n_iter_no_change = 10)\n",
    "    gbr.fit(X_train, y_train)\n",
    "    y_pred = gbr.predict(X_test)\n",
    "    rmse = MSE(y_test, y_pred)**0.5\n",
    "    print('최대 깊이:', depth, ', 점수:', rmse)\n",
    "\n",
    "plt.figure(figsize=(15,7))\n",
    "plt.plot(range(1, len(gbr.train_score_)+1), gbr.train_score_)\n",
    "plt.xlabel('n_estimators')\n",
    "plt.ylabel('train_score_')\n",
    "plt.title('Train Score')\n",
    "plt.show()"
   ]
  },
  {
   "cell_type": "markdown",
   "id": "fd56733f",
   "metadata": {},
   "source": [
    "### 4.3.5. subsample & obb_improvement_\n",
    "\n",
    "`subsample`\n",
    "+ 기본 학습기에 사용될 샘플의 비율을 정함\n",
    "+ `default=1`\n",
    "+ 값이 1보다 작으면, 훈련할 때 샘플의 일부만 사용하게 됨(**확률적 그레디언트 부스팅**)\n",
    "\n",
    "`obb_improvement_`\n",
    "+ 속성으로, `subsample < 1` 인 경우, 남은 sample을 이용하여 `OOB 점수`를 계산할 수 있음"
   ]
  },
  {
   "cell_type": "code",
   "execution_count": 32,
   "id": "a93eb239",
   "metadata": {},
   "outputs": [
    {
     "name": "stdout",
     "output_type": "stream",
     "text": [
      "subsample: 1 , 점수: 652.3038233067876\n",
      "subsample: 0.9 , 점수: 608.5485592319008\n",
      "subsample: 0.8 , 점수: 600.9155680602979\n",
      "subsample: 0.7 , 점수: 582.4611617020585\n",
      "subsample: 0.6 , 점수: 587.5767181293851\n",
      "subsample: 0.5 , 점수: 596.2195418730852\n"
     ]
    },
    {
     "data": {
      "image/png": "[encoded data removed]",
      "text/plain": [
       "<Figure size 1500x700 with 1 Axes>"
      ]
     },
     "metadata": {},
     "output_type": "display_data"
    }
   ],
   "source": [
    "samples = [1, 0.9, 0.8, 0.7, 0.6, 0.5]\n",
    "for sample in samples:\n",
    "    gbr = GradientBoostingRegressor(max_depth=3, n_estimators=300, \n",
    "                                    subsample=sample, random_state=42)\n",
    "    gbr.fit(X_train, y_train)\n",
    "    y_pred = gbr.predict(X_test)\n",
    "    rmse = MSE(y_test, y_pred)**0.5\n",
    "    print('subsample:', sample, ', 점수:', rmse)\n",
    "plt.figure(figsize=(15,7))\n",
    "plt.plot(range(1, 301), gbr.oob_improvement_)\n",
    "plt.xlabel('n_estimators')\n",
    "plt.ylabel('oob_improvement_')\n",
    "plt.title('OOB Improvement')\n",
    "plt.show()"
   ]
  },
  {
   "cell_type": "markdown",
   "id": "80bc4a75",
   "metadata": {},
   "source": [
    "### 4.3.6 RandomizedSearchCV"
   ]
  },
  {
   "cell_type": "code",
   "execution_count": 37,
   "id": "807e6d38",
   "metadata": {},
   "outputs": [],
   "source": [
    "# RandomizedSearchCV를 임포트합니다.\n",
    "from sklearn.model_selection import RandomizedSearchCV\n",
    "def randomcv(model, params, n_iter):\n",
    "\n",
    "    # RandomizedSearchCV를 초기화합니다.\n",
    "    rand_reg = RandomizedSearchCV(model, params, n_iter=n_iter,   # 10회 시도\n",
    "                                  scoring='neg_mean_squared_error', \n",
    "                                  cv=5, n_jobs=-1, random_state=42)\n",
    "\n",
    "    # X_train와 y_train로 rand_reg를 훈련합니다.\n",
    "    rand_reg.fit(X_train, y_train)\n",
    "\n",
    "    # 최상의 모델을 추출합니다.\n",
    "    best_model = rand_reg.best_estimator_\n",
    "\n",
    "    # 최상의 매개변수를 추출합니다.\n",
    "    best_params = rand_reg.best_params_\n",
    "\n",
    "    # 최상의 매개변수를 출력합니다.\n",
    "    print(\"최상의 매개변수:\", best_params)\n",
    "\n",
    "    # 최상의 점수를 계산합니다.\n",
    "    best_score = np.sqrt(-rand_reg.best_score_)\n",
    "\n",
    "    # 최상의 점수를 출력합니다.\n",
    "    print(\"훈련 점수: {:.3f}\".format(best_score))\n",
    "\n",
    "    # 테스트 세트에 대한 예측을 만듭니다.\n",
    "    y_pred = best_model.predict(X_test)\n",
    "\n",
    "    # 평균 제곱근 오차를 계산합니다.\n",
    "    rmse_test = MSE(y_test, y_pred)**0.5\n",
    "\n",
    "    # 평균 제곱근 오차를 출력합니다.\n",
    "    print('테스트 세트 점수: {:.3f}'.format(rmse_test))\n",
    "\n",
    "\n"
   ]
  },
  {
   "cell_type": "markdown",
   "id": "6ca64197",
   "metadata": {},
   "source": [
    "#### search 1"
   ]
  },
  {
   "cell_type": "code",
   "execution_count": 38,
   "id": "4ba527d9",
   "metadata": {},
   "outputs": [
    {
     "name": "stdout",
     "output_type": "stream",
     "text": [
      "최상의 매개변수: {'subsample': 0.7, 'n_estimators': 300, 'learning_rate': 0.05}\n",
      "훈련 점수: 651.374\n",
      "테스트 세트 점수: 578.710\n"
     ]
    }
   ],
   "source": [
    "params = {'subsample':[0.7],\n",
    "          'n_estimators':[300, 500, 1000,2000,3000],\n",
    "          'learning_rate':[0.05, 0.075, 0.1],\n",
    "         }\n",
    "gbr = GradientBoostingRegressor(max_depth=3, random_state=42)\n",
    "randomcv(gbr, params, 10)"
   ]
  },
  {
   "cell_type": "markdown",
   "id": "8ee605ca",
   "metadata": {},
   "source": [
    "#### search 2"
   ]
  },
  {
   "cell_type": "code",
   "execution_count": 40,
   "id": "d1b61026",
   "metadata": {},
   "outputs": [
    {
     "name": "stdout",
     "output_type": "stream",
     "text": [
      "최상의 매개변수: {'subsample': 0.7, 'n_estimators': 2000, 'learning_rate': 0.01}\n",
      "훈련 점수: 638.628\n",
      "테스트 세트 점수: 586.684\n"
     ]
    }
   ],
   "source": [
    "params = {'subsample':[0.7],\n",
    "          'n_estimators':[300, 500, 1000,2000,3000],\n",
    "          'learning_rate':[0.01, 0.02, 0.05, 0.075],\n",
    "         }\n",
    "gbr = GradientBoostingRegressor(max_depth=3, random_state=42)\n",
    "randomcv(gbr, params, 15)"
   ]
  },
  {
   "cell_type": "markdown",
   "id": "025c5146",
   "metadata": {},
   "source": [
    "#### search 3"
   ]
  },
  {
   "cell_type": "code",
   "execution_count": 41,
   "id": "9de88c14",
   "metadata": {},
   "outputs": [
    {
     "name": "stdout",
     "output_type": "stream",
     "text": [
      "최상의 매개변수: {'subsample': 0.7, 'n_estimators': 1750, 'learning_rate': 0.01}\n",
      "훈련 점수: 638.640\n",
      "테스트 세트 점수: 588.658\n"
     ]
    }
   ],
   "source": [
    "params = {'subsample':[0.7],\n",
    "          'n_estimators':[1500, 1750 , 2000, 2250, 2500,4000],\n",
    "          'learning_rate':[0.005, 0.0075, 0.01, 0.0125, 0.02],\n",
    "         }\n",
    "gbr = GradientBoostingRegressor(max_depth=3, random_state=42)\n",
    "randomcv(gbr, params, 15)"
   ]
  },
  {
   "cell_type": "markdown",
   "id": "fcfa3eb0",
   "metadata": {},
   "source": [
    "#### 최종모델"
   ]
  },
  {
   "cell_type": "code",
   "execution_count": 42,
   "id": "4c4343fb",
   "metadata": {},
   "outputs": [
    {
     "data": {
      "text/plain": [
       "586.6836197660022"
      ]
     },
     "execution_count": 42,
     "metadata": {},
     "output_type": "execute_result"
    }
   ],
   "source": [
    "gbr = GradientBoostingRegressor(max_depth=3, n_estimators=2000, \n",
    "                                subsample=0.7, learning_rate=0.01, \n",
    "                                random_state=42)\n",
    "gbr.fit(X_train, y_train)\n",
    "y_pred = gbr.predict(X_test)\n",
    "MSE(y_test, y_pred)**0.5"
   ]
  },
  {
   "cell_type": "markdown",
   "id": "566d4ee5",
   "metadata": {},
   "source": [
    "### 4.3.7. XGBoost 와 비교"
   ]
  },
  {
   "cell_type": "code",
   "execution_count": 47,
   "id": "4bb5831e",
   "metadata": {},
   "outputs": [
    {
     "name": "stdout",
     "output_type": "stream",
     "text": [
      "테스트 점수 :  576.455493333802\n",
      "XGBoost를 GradientBoosting과 동일 파라미터로 훈련시, 더 빠르고 더 정확하다\n"
     ]
    }
   ],
   "source": [
    "from xgboost import XGBRegressor\n",
    "xg_reg = XGBRegressor(max_depth=3, n_estimators=2000, subsample=0.7, eta=0.01, random_state=42)\n",
    "xg_reg.fit(X_train, y_train)\n",
    "y_pred = xg_reg.predict(X_test)\n",
    "print('테스트 점수 : ',MSE(y_test, y_pred)**0.5)\n",
    "print('XGBoost를 GradientBoosting과 동일 파라미터로 훈련시, 더 빠르고 더 정확하다')"
   ]
  },
  {
   "cell_type": "markdown",
   "id": "e6eaf745",
   "metadata": {},
   "source": [
    "## 4.4. GradientBoosting vs. XGBoost"
   ]
  },
  {
   "cell_type": "markdown",
   "id": "5be2a8c7",
   "metadata": {},
   "source": [
    "### 4.4.1. 외계 행성 데이터셋 소개\n",
    "2017년 캐글에 소개된 데이터 셋입니다. 별의 밝기에 대한 정보가 포함되어 있습니다.\n",
    "+ 각 행은 하나의 별에 대한 정보\n",
    "+ 각 열은 시간에 따라 밝기의 변화를 저장\n",
    "+ label 열에는 별이 외계행성을 가지고 있으면 2, 아니면 1\n",
    "\n",
    "별의 밝기가 주기적으로 달라질 때, 외계 행성이 이 별을 공전하고 있을 가능성이 있습니다. 외계 행성이 별의 앞을 지나갈 때 빛의 일부분을 가리고, 이로 인해 별의 밝기가 약간 감소된다고 가정한 것입니다."
   ]
  },
  {
   "cell_type": "markdown",
   "id": "7aeaf4bd",
   "metadata": {},
   "source": [
    "### 4.4.2. 데이터 로드"
   ]
  },
  {
   "cell_type": "code",
   "execution_count": 52,
   "id": "85d9ad53",
   "metadata": {},
   "outputs": [
    {
     "data": {
      "text/html": [
       "<div>\n",
       "<style scoped>\n",
       "    .dataframe tbody tr th:only-of-type {\n",
       "        vertical-align: middle;\n",
       "    }\n",
       "\n",
       "    .dataframe tbody tr th {\n",
       "        vertical-align: top;\n",
       "    }\n",
       "\n",
       "    .dataframe thead th {\n",
       "        text-align: right;\n",
       "    }\n",
       "</style>\n",
       "<table border=\"1\" class=\"dataframe\">\n",
       "  <thead>\n",
       "    <tr style=\"text-align: right;\">\n",
       "      <th></th>\n",
       "      <th>LABEL</th>\n",
       "      <th>FLUX.1</th>\n",
       "      <th>FLUX.2</th>\n",
       "      <th>FLUX.3</th>\n",
       "      <th>FLUX.4</th>\n",
       "      <th>FLUX.5</th>\n",
       "      <th>FLUX.6</th>\n",
       "      <th>FLUX.7</th>\n",
       "      <th>FLUX.8</th>\n",
       "      <th>FLUX.9</th>\n",
       "      <th>...</th>\n",
       "      <th>FLUX.3188</th>\n",
       "      <th>FLUX.3189</th>\n",
       "      <th>FLUX.3190</th>\n",
       "      <th>FLUX.3191</th>\n",
       "      <th>FLUX.3192</th>\n",
       "      <th>FLUX.3193</th>\n",
       "      <th>FLUX.3194</th>\n",
       "      <th>FLUX.3195</th>\n",
       "      <th>FLUX.3196</th>\n",
       "      <th>FLUX.3197</th>\n",
       "    </tr>\n",
       "  </thead>\n",
       "  <tbody>\n",
       "    <tr>\n",
       "      <th>0</th>\n",
       "      <td>2</td>\n",
       "      <td>93.85</td>\n",
       "      <td>83.81</td>\n",
       "      <td>20.10</td>\n",
       "      <td>-26.98</td>\n",
       "      <td>-39.56</td>\n",
       "      <td>-124.71</td>\n",
       "      <td>-135.18</td>\n",
       "      <td>-96.27</td>\n",
       "      <td>-79.89</td>\n",
       "      <td>...</td>\n",
       "      <td>-78.07</td>\n",
       "      <td>-102.15</td>\n",
       "      <td>-102.15</td>\n",
       "      <td>25.13</td>\n",
       "      <td>48.57</td>\n",
       "      <td>92.54</td>\n",
       "      <td>39.32</td>\n",
       "      <td>61.42</td>\n",
       "      <td>5.08</td>\n",
       "      <td>-39.54</td>\n",
       "    </tr>\n",
       "    <tr>\n",
       "      <th>1</th>\n",
       "      <td>2</td>\n",
       "      <td>-38.88</td>\n",
       "      <td>-33.83</td>\n",
       "      <td>-58.54</td>\n",
       "      <td>-40.09</td>\n",
       "      <td>-79.31</td>\n",
       "      <td>-72.81</td>\n",
       "      <td>-86.55</td>\n",
       "      <td>-85.33</td>\n",
       "      <td>-83.97</td>\n",
       "      <td>...</td>\n",
       "      <td>-3.28</td>\n",
       "      <td>-32.21</td>\n",
       "      <td>-32.21</td>\n",
       "      <td>-24.89</td>\n",
       "      <td>-4.86</td>\n",
       "      <td>0.76</td>\n",
       "      <td>-11.70</td>\n",
       "      <td>6.46</td>\n",
       "      <td>16.00</td>\n",
       "      <td>19.93</td>\n",
       "    </tr>\n",
       "    <tr>\n",
       "      <th>2</th>\n",
       "      <td>2</td>\n",
       "      <td>532.64</td>\n",
       "      <td>535.92</td>\n",
       "      <td>513.73</td>\n",
       "      <td>496.92</td>\n",
       "      <td>456.45</td>\n",
       "      <td>466.00</td>\n",
       "      <td>464.50</td>\n",
       "      <td>486.39</td>\n",
       "      <td>436.56</td>\n",
       "      <td>...</td>\n",
       "      <td>-71.69</td>\n",
       "      <td>13.31</td>\n",
       "      <td>13.31</td>\n",
       "      <td>-29.89</td>\n",
       "      <td>-20.88</td>\n",
       "      <td>5.06</td>\n",
       "      <td>-11.80</td>\n",
       "      <td>-28.91</td>\n",
       "      <td>-70.02</td>\n",
       "      <td>-96.67</td>\n",
       "    </tr>\n",
       "    <tr>\n",
       "      <th>3</th>\n",
       "      <td>2</td>\n",
       "      <td>326.52</td>\n",
       "      <td>347.39</td>\n",
       "      <td>302.35</td>\n",
       "      <td>298.13</td>\n",
       "      <td>317.74</td>\n",
       "      <td>312.70</td>\n",
       "      <td>322.33</td>\n",
       "      <td>311.31</td>\n",
       "      <td>312.42</td>\n",
       "      <td>...</td>\n",
       "      <td>5.71</td>\n",
       "      <td>-3.73</td>\n",
       "      <td>-3.73</td>\n",
       "      <td>30.05</td>\n",
       "      <td>20.03</td>\n",
       "      <td>-12.67</td>\n",
       "      <td>-8.77</td>\n",
       "      <td>-17.31</td>\n",
       "      <td>-17.35</td>\n",
       "      <td>13.98</td>\n",
       "    </tr>\n",
       "    <tr>\n",
       "      <th>4</th>\n",
       "      <td>2</td>\n",
       "      <td>-1107.21</td>\n",
       "      <td>-1112.59</td>\n",
       "      <td>-1118.95</td>\n",
       "      <td>-1095.10</td>\n",
       "      <td>-1057.55</td>\n",
       "      <td>-1034.48</td>\n",
       "      <td>-998.34</td>\n",
       "      <td>-1022.71</td>\n",
       "      <td>-989.57</td>\n",
       "      <td>...</td>\n",
       "      <td>-594.37</td>\n",
       "      <td>-401.66</td>\n",
       "      <td>-401.66</td>\n",
       "      <td>-357.24</td>\n",
       "      <td>-443.76</td>\n",
       "      <td>-438.54</td>\n",
       "      <td>-399.71</td>\n",
       "      <td>-384.65</td>\n",
       "      <td>-411.79</td>\n",
       "      <td>-510.54</td>\n",
       "    </tr>\n",
       "  </tbody>\n",
       "</table>\n",
       "<p>5 rows × 3198 columns</p>\n",
       "</div>"
      ],
      "text/plain": [
       "   LABEL   FLUX.1   FLUX.2   FLUX.3   FLUX.4   FLUX.5   FLUX.6  FLUX.7  \\\n",
       "0      2    93.85    83.81    20.10   -26.98   -39.56  -124.71 -135.18   \n",
       "1      2   -38.88   -33.83   -58.54   -40.09   -79.31   -72.81  -86.55   \n",
       "2      2   532.64   535.92   513.73   496.92   456.45   466.00  464.50   \n",
       "3      2   326.52   347.39   302.35   298.13   317.74   312.70  322.33   \n",
       "4      2 -1107.21 -1112.59 -1118.95 -1095.10 -1057.55 -1034.48 -998.34   \n",
       "\n",
       "    FLUX.8  FLUX.9  ...  FLUX.3188  FLUX.3189  FLUX.3190  FLUX.3191  \\\n",
       "0   -96.27  -79.89  ...     -78.07    -102.15    -102.15      25.13   \n",
       "1   -85.33  -83.97  ...      -3.28     -32.21     -32.21     -24.89   \n",
       "2   486.39  436.56  ...     -71.69      13.31      13.31     -29.89   \n",
       "3   311.31  312.42  ...       5.71      -3.73      -3.73      30.05   \n",
       "4 -1022.71 -989.57  ...    -594.37    -401.66    -401.66    -357.24   \n",
       "\n",
       "   FLUX.3192  FLUX.3193  FLUX.3194  FLUX.3195  FLUX.3196  FLUX.3197  \n",
       "0      48.57      92.54      39.32      61.42       5.08     -39.54  \n",
       "1      -4.86       0.76     -11.70       6.46      16.00      19.93  \n",
       "2     -20.88       5.06     -11.80     -28.91     -70.02     -96.67  \n",
       "3      20.03     -12.67      -8.77     -17.31     -17.35      13.98  \n",
       "4    -443.76    -438.54    -399.71    -384.65    -411.79    -510.54  \n",
       "\n",
       "[5 rows x 3198 columns]"
      ]
     },
     "execution_count": 52,
     "metadata": {},
     "output_type": "execute_result"
    }
   ],
   "source": [
    "df = pd.read_csv('exoplanets.csv')\n",
    "\n",
    "# 데이터를 X와 y로 나눕니다.\n",
    "X = df.iloc[:,1:]\n",
    "y = df.iloc[:,0] - 1  # 외계행성 가지고 있으면 1, 아니면 0\n",
    "\n",
    "# 훈련 세트와 테스트 세트로 나눕니다.\n",
    "X_train, X_test, y_train, y_test = train_test_split(X, y, random_state=2)\n",
    "\n",
    "df.head()"
   ]
  },
  {
   "cell_type": "code",
   "execution_count": 50,
   "id": "fae4b4b5",
   "metadata": {},
   "outputs": [
    {
     "name": "stdout",
     "output_type": "stream",
     "text": [
      "<class 'pandas.core.frame.DataFrame'>\n",
      "RangeIndex: 5087 entries, 0 to 5086\n",
      "Columns: 3198 entries, LABEL to FLUX.3197\n",
      "dtypes: float64(3197), int64(1)\n",
      "memory usage: 124.1 MB\n"
     ]
    }
   ],
   "source": [
    "df.info()"
   ]
  },
  {
   "cell_type": "code",
   "execution_count": 51,
   "id": "2d0fcfae",
   "metadata": {},
   "outputs": [
    {
     "data": {
      "text/plain": [
       "0"
      ]
     },
     "execution_count": 51,
     "metadata": {},
     "output_type": "execute_result"
    }
   ],
   "source": [
    "df.isnull().sum().sum()"
   ]
  },
  {
   "cell_type": "markdown",
   "id": "d867db54",
   "metadata": {},
   "source": [
    "### 4.4.3. GradientBoosting vs. XGBoosting"
   ]
  },
  {
   "cell_type": "code",
   "execution_count": 64,
   "id": "16a13270",
   "metadata": {},
   "outputs": [],
   "source": [
    "from sklearn.ensemble import GradientBoostingClassifier\n",
    "from xgboost import XGBClassifier\n",
    "\n",
    "# accuracy_score를 임포트합니다.\n",
    "from sklearn.metrics import accuracy_score\n",
    "from sklearn.metrics import classification_report"
   ]
  },
  {
   "cell_type": "markdown",
   "id": "99c4fdf9",
   "metadata": {},
   "source": [
    "### 4.4.4. 시간측정\n"
   ]
  },
  {
   "cell_type": "markdown",
   "id": "2048a90f",
   "metadata": {},
   "source": [
    "#### timeit\n",
    "+ % : 라인에 대해서 실행\n",
    "+ %% : 셀에 대해서 실행\n",
    "+ -n : 반복에서 실행횟수\n",
    "+ -r : 반복 횟수"
   ]
  },
  {
   "cell_type": "code",
   "execution_count": 54,
   "id": "f990338d",
   "metadata": {},
   "outputs": [
    {
     "name": "stdout",
     "output_type": "stream",
     "text": [
      "1.1 ms ± 2.13 µs per loop (mean ± std. dev. of 3 runs, 100 loops each)\n"
     ]
    }
   ],
   "source": [
    "%timeit -n 100 -r 3 sum(np.square(range(10000)))"
   ]
  },
  {
   "cell_type": "code",
   "execution_count": 55,
   "id": "8aec6089",
   "metadata": {},
   "outputs": [
    {
     "name": "stdout",
     "output_type": "stream",
     "text": [
      "2.34 ms ± 27.4 µs per loop (mean ± std. dev. of 3 runs, 100 loops each)\n"
     ]
    }
   ],
   "source": [
    "%%timeit -n 100 -r 3 \n",
    "summing = 0\n",
    "for i in range(10000):\n",
    "    summing += i**2"
   ]
  },
  {
   "cell_type": "code",
   "execution_count": 56,
   "id": "1be01639",
   "metadata": {},
   "outputs": [
    {
     "name": "stdout",
     "output_type": "stream",
     "text": [
      "<class 'pandas.core.frame.DataFrame'>\n",
      "RangeIndex: 5087 entries, 0 to 5086\n",
      "Columns: 3198 entries, LABEL to FLUX.3197\n",
      "dtypes: float64(3197), int64(1)\n",
      "memory usage: 124.1 MB\n",
      "\n",
      "실행 시간: 0.19364452362060547 초\n"
     ]
    }
   ],
   "source": [
    "import time\n",
    "start = time.time()\n",
    "\n",
    "df.info()\n",
    "\n",
    "end = time.time()\n",
    "elapsed = end - start\n",
    "\n",
    "print('\\n실행 시간: ' + str(elapsed) + ' 초')"
   ]
  },
  {
   "cell_type": "markdown",
   "id": "c01f27a6",
   "metadata": {},
   "source": [
    "### 4.4.5. 속도 비교\n",
    "모델 자체는 불균형자료를 잘 예측하지 못함"
   ]
  },
  {
   "cell_type": "code",
   "execution_count": 66,
   "id": "8624a0cc",
   "metadata": {},
   "outputs": [
    {
     "name": "stdout",
     "output_type": "stream",
     "text": [
      "점수: 0.9874213836477987\n",
      "              precision    recall  f1-score   support\n",
      "\n",
      "           0       0.99      1.00      0.99      1261\n",
      "           1       0.00      0.00      0.00        11\n",
      "\n",
      "    accuracy                           0.99      1272\n",
      "   macro avg       0.50      0.50      0.50      1272\n",
      "weighted avg       0.98      0.99      0.99      1272\n",
      "\n",
      "실행 시간: 204.21732306480408 초\n"
     ]
    }
   ],
   "source": [
    "start = time.time()\n",
    "\n",
    "gbr = GradientBoostingClassifier(n_estimators=100, \n",
    "                                 max_depth=2, random_state=42)\n",
    "gbr.fit(X_train, y_train)\n",
    "y_pred_gbr = gbr.predict(X_test)\n",
    "score = accuracy_score(y_pred_gbr, y_test)\n",
    "print('점수: ' + str(score))\n",
    "\n",
    "print(classification_report(y_test, y_pred_gbr ))\n",
    "\n",
    "end = time.time()\n",
    "elapsed = end - start\n",
    "\n",
    "print('실행 시간: ' + str(elapsed) + ' 초')"
   ]
  },
  {
   "cell_type": "code",
   "execution_count": 65,
   "id": "314a746e",
   "metadata": {},
   "outputs": [
    {
     "name": "stdout",
     "output_type": "stream",
     "text": [
      "점수: 0.9913522012578616\n",
      "              precision    recall  f1-score   support\n",
      "\n",
      "           0       0.99      1.00      1.00      1261\n",
      "           1       0.00      0.00      0.00        11\n",
      "\n",
      "    accuracy                           0.99      1272\n",
      "   macro avg       0.50      0.50      0.50      1272\n",
      "weighted avg       0.98      0.99      0.99      1272\n",
      "\n",
      "실행 시간: 6.536454200744629 초\n"
     ]
    }
   ],
   "source": [
    "start = time.time()\n",
    "\n",
    "# XGBRegressor를 초기화합니다.\n",
    "xg_reg = XGBClassifier(n_estimators=100, max_depth=2, random_state=42)\n",
    "\n",
    "# 훈련 세트에서 xg_reg를 훈련합니다.\n",
    "xg_reg.fit(X_train, y_train)\n",
    "\n",
    "# 테스트 세트에 대한 예측을 만듭니다.\n",
    "y_pred = xg_reg.predict(X_test)\n",
    "\n",
    "score = accuracy_score(y_pred, y_test)\n",
    "\n",
    "print('점수: ' + str(score))\n",
    "print(classification_report(y_test, y_pred ))\n",
    "\n",
    "\n",
    "end = time.time()\n",
    "elapsed = end - start\n",
    "\n",
    "print('실행 시간: ' + str(elapsed) + ' 초')"
   ]
  },
  {
   "cell_type": "code",
   "execution_count": 67,
   "id": "867d586e",
   "metadata": {},
   "outputs": [
    {
     "data": {
      "text/plain": [
       "0    1261\n",
       "1      11\n",
       "Name: LABEL, dtype: int64"
      ]
     },
     "execution_count": 67,
     "metadata": {},
     "output_type": "execute_result"
    }
   ],
   "source": [
    "y_test.value_counts()"
   ]
  }
 ],
 "metadata": {
  "kernelspec": {
   "display_name": "Python 3 (ipykernel)",
   "language": "python",
   "name": "python3"
  },
  "language_info": {
   "codemirror_mode": {
    "name": "ipython",
    "version": 3
   },
   "file_extension": ".py",
   "mimetype": "text/x-python",
   "name": "python",
   "nbconvert_exporter": "python",
   "pygments_lexer": "ipython3",
   "version": "3.10.9"
  }
 },
 "nbformat": 4,
 "nbformat_minor": 5
}
